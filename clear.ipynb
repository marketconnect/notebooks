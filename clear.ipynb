{
 "cells": [
  {
   "cell_type": "code",
   "execution_count": 1,
   "metadata": {},
   "outputs": [],
   "source": [
    "import pandas as pd"
   ]
  },
  {
   "cell_type": "markdown",
   "metadata": {},
   "source": [
    "# Filters"
   ]
  },
  {
   "cell_type": "markdown",
   "metadata": {},
   "source": [
    "```\n",
    "CREATE TEMPORARY TABLE temp_filters AS\n",
    "SELECT MIN(id) as id, kw_id, filter_name, name, filter_id, MIN(count) as count\n",
    "FROM filters\n",
    "GROUP BY filter_name, name;\n",
    "```\n"
   ]
  },
  {
   "cell_type": "code",
   "execution_count": 3,
   "metadata": {},
   "outputs": [
    {
     "name": "stdout",
     "output_type": "stream",
     "text": [
      " api.yml\t  pics\n",
      " cat.db\t\t  products.db\n",
      " cat.db-journal   products_last.db\n",
      " categories.csv   requests.csv\n",
      " filter.db\t  rewild\n",
      " filters.csv\t  sets\n",
      " filters.db\t  stocks.xlsx\n",
      " kw.csv\t\t 'Unconfirmed 111460.crdownload'\n",
      " new.xlsx\t 'Unconfirmed 696619.crdownload'\n",
      " parsing\t 'Unconfirmed 863281.crdownload'\n",
      " parsing_1.db\t  week_requests.csv\n",
      " parsing_4.db\t 'Акт сверки за период 2024-01-01 - 2024-03-31.pdf'\n",
      " parsing.db\t 'Товары с выгодной ценой.xlsx'\n",
      " p.db\t\t 'Товары с высокой ценой.xlsx'\n",
      " p.db-journal\t 'Товары с оптимальной ценой.xlsx'\n"
     ]
    }
   ],
   "source": [
    "df = pd.read_csv('~/Desktop/NEW/filters.csv')\n",
    "\n",
    "df = df.drop_duplicates(subset=['filter_name', 'name'])\n",
    "\n",
    "df.to_csv('/tmp/filters_clean.csv', index=False)"
   ]
  },
  {
   "cell_type": "markdown",
   "metadata": {},
   "source": [
    "# Search phrases"
   ]
  },
  {
   "cell_type": "markdown",
   "metadata": {},
   "source": [
    "### clean numeric and NULLs"
   ]
  },
  {
   "cell_type": "code",
   "execution_count": 39,
   "metadata": {},
   "outputs": [],
   "source": [
    "df = pd.read_csv('~/Desktop/NEW/requests.csv', delimiter=',')  \n",
    "df = df.drop_duplicates(subset=['kw'])\n",
    "df = df.dropna(axis=1, how='all')\n",
    "df = df[df['kw'].notna()]\n",
    "df_filtered = df[~df['kw'].str.isnumeric()]\n",
    "df_filtered = df_filtered.dropna(axis=1, how='all')\n",
    "\n"
   ]
  },
  {
   "cell_type": "markdown",
   "metadata": {},
   "source": [
    "### drop too much long string"
   ]
  },
  {
   "cell_type": "code",
   "execution_count": 55,
   "metadata": {},
   "outputs": [],
   "source": [
    "\n",
    "lengths = df_filtered['kw'].dropna().apply(len)\n",
    "\n",
    "max_index = lengths.idxmax()\n",
    "\n",
    "longest_string = df.loc[max_index, 'kw']"
   ]
  },
  {
   "cell_type": "code",
   "execution_count": 56,
   "metadata": {},
   "outputs": [
    {
     "data": {
      "text/plain": [
       "'усиленный фиксатор распредвалов грм для лада ваз приора гранта веста 21126 2112 2110 - фиксатор грм для lada priora лада приора vaz priora vesta granta'"
      ]
     },
     "execution_count": 56,
     "metadata": {},
     "output_type": "execute_result"
    }
   ],
   "source": [
    "longest_string"
   ]
  },
  {
   "cell_type": "code",
   "execution_count": 54,
   "metadata": {},
   "outputs": [],
   "source": [
    "df_filtered = df_filtered.drop(max_index)\n"
   ]
  },
  {
   "cell_type": "code",
   "execution_count": 18,
   "metadata": {},
   "outputs": [
    {
     "data": {
      "text/plain": [
       "194"
      ]
     },
     "execution_count": 18,
     "metadata": {},
     "output_type": "execute_result"
    }
   ],
   "source": [
    "len(longest_string)"
   ]
  },
  {
   "cell_type": "code",
   "execution_count": 61,
   "metadata": {},
   "outputs": [
    {
     "data": {
      "text/html": [
       "<div>\n",
       "<style scoped>\n",
       "    .dataframe tbody tr th:only-of-type {\n",
       "        vertical-align: middle;\n",
       "    }\n",
       "\n",
       "    .dataframe tbody tr th {\n",
       "        vertical-align: top;\n",
       "    }\n",
       "\n",
       "    .dataframe thead th {\n",
       "        text-align: right;\n",
       "    }\n",
       "</style>\n",
       "<table border=\"1\" class=\"dataframe\">\n",
       "  <thead>\n",
       "    <tr style=\"text-align: right;\">\n",
       "      <th></th>\n",
       "      <th>kw</th>\n",
       "      <th>freq</th>\n",
       "    </tr>\n",
       "  </thead>\n",
       "  <tbody>\n",
       "    <tr>\n",
       "      <th>0</th>\n",
       "      <td>футболка женская</td>\n",
       "      <td>1082340</td>\n",
       "    </tr>\n",
       "    <tr>\n",
       "      <th>1</th>\n",
       "      <td>кроссовки женские</td>\n",
       "      <td>1067725</td>\n",
       "    </tr>\n",
       "    <tr>\n",
       "      <th>2</th>\n",
       "      <td>джинсы женские</td>\n",
       "      <td>680230</td>\n",
       "    </tr>\n",
       "    <tr>\n",
       "      <th>3</th>\n",
       "      <td>платье женское</td>\n",
       "      <td>636185</td>\n",
       "    </tr>\n",
       "    <tr>\n",
       "      <th>4</th>\n",
       "      <td>кроссовки мужские</td>\n",
       "      <td>597755</td>\n",
       "    </tr>\n",
       "  </tbody>\n",
       "</table>\n",
       "</div>"
      ],
      "text/plain": [
       "                  kw     freq\n",
       "0   футболка женская  1082340\n",
       "1  кроссовки женские  1067725\n",
       "2     джинсы женские   680230\n",
       "3     платье женское   636185\n",
       "4  кроссовки мужские   597755"
      ]
     },
     "execution_count": 61,
     "metadata": {},
     "output_type": "execute_result"
    }
   ],
   "source": [
    "df_filtered = df_filtered.dropna(axis=1, how='all')\n",
    "df_filtered = df_filtered.drop(columns=['Unnamed: 2'], errors='ignore')\n",
    "df_filtered = df_filtered.drop(columns=['Unnamed: 2'], errors='ignore')\n",
    "df_filtered['freq'] = pd.to_numeric(df_filtered['freq'], errors='coerce').fillna(0).astype(int)\n",
    "\n",
    "\n",
    "df_filtered.head()"
   ]
  },
  {
   "cell_type": "code",
   "execution_count": 62,
   "metadata": {},
   "outputs": [],
   "source": [
    "df_filtered.to_csv('~/Desktop/NEW/search_phrases_clean.csv', index=False)"
   ]
  },
  {
   "cell_type": "markdown",
   "metadata": {},
   "source": [
    "# Lemmas"
   ]
  },
  {
   "cell_type": "code",
   "execution_count": 1,
   "metadata": {},
   "outputs": [
    {
     "ename": "NameError",
     "evalue": "name 'pd' is not defined",
     "output_type": "error",
     "traceback": [
      "\u001b[0;31m---------------------------------------------------------------------------\u001b[0m",
      "\u001b[0;31mNameError\u001b[0m                                 Traceback (most recent call last)",
      "\u001b[0;32m/tmp/ipykernel_116571/2720432373.py\u001b[0m in \u001b[0;36m<module>\u001b[0;34m\u001b[0m\n\u001b[0;32m----> 1\u001b[0;31m \u001b[0mdf\u001b[0m \u001b[0;34m=\u001b[0m \u001b[0mpd\u001b[0m\u001b[0;34m.\u001b[0m\u001b[0mread_csv\u001b[0m\u001b[0;34m(\u001b[0m\u001b[0;34m'~/Desktop/NEW/lemmas.csv'\u001b[0m\u001b[0;34m)\u001b[0m\u001b[0;34m\u001b[0m\u001b[0;34m\u001b[0m\u001b[0m\n\u001b[0m\u001b[1;32m      2\u001b[0m \u001b[0mprint\u001b[0m\u001b[0;34m(\u001b[0m\u001b[0;34mf'Initially, the DataFrame has {len(df)} rows.'\u001b[0m\u001b[0;34m)\u001b[0m\u001b[0;34m\u001b[0m\u001b[0;34m\u001b[0m\u001b[0m\n\u001b[1;32m      3\u001b[0m \u001b[0;34m\u001b[0m\u001b[0m\n\u001b[1;32m      4\u001b[0m \u001b[0;34m\u001b[0m\u001b[0m\n\u001b[1;32m      5\u001b[0m \u001b[0mdf\u001b[0m \u001b[0;34m=\u001b[0m \u001b[0mdf\u001b[0m\u001b[0;34m.\u001b[0m\u001b[0mdrop_duplicates\u001b[0m\u001b[0;34m(\u001b[0m\u001b[0msubset\u001b[0m\u001b[0;34m=\u001b[0m\u001b[0;34m[\u001b[0m\u001b[0;34m'lemma'\u001b[0m\u001b[0;34m]\u001b[0m\u001b[0;34m)\u001b[0m\u001b[0;34m\u001b[0m\u001b[0;34m\u001b[0m\u001b[0m\n",
      "\u001b[0;31mNameError\u001b[0m: name 'pd' is not defined"
     ]
    }
   ],
   "source": [
    "df = pd.read_csv('~/Desktop/NEW/lemmas.csv')\n",
    "print(f'Initially, the DataFrame has {len(df)} rows.')\n",
    "\n",
    "\n",
    "df = df.drop_duplicates(subset=['lemma'])\n",
    "\n",
    "na_ids = df[df['lemma'].isna()].index.tolist()\n",
    "print(f'IDs with NaN in \"lemma\": {na_ids}')\n",
    "\n",
    "# Фильтрация DataFrame для удаления строк с NaN в 'lemma'\n",
    "df_filtered = df[df['lemma'].notna()]\n",
    "print(f'After removal of NaNs: {len(df_filtered)} records')"
   ]
  },
  {
   "cell_type": "code",
   "execution_count": 26,
   "metadata": {},
   "outputs": [],
   "source": [
    "df_filtered.to_csv('~/Desktop/NEW/lemmas_clean.csv', index=False)"
   ]
  },
  {
   "cell_type": "markdown",
   "metadata": {},
   "source": [
    "# KW - lemmas"
   ]
  },
  {
   "cell_type": "code",
   "execution_count": null,
   "metadata": {},
   "outputs": [],
   "source": [
    "df = pd.read_csv('~/Desktop/NEW/kw_lemmas.csv')\n",
    "print(f'at first {len(df)}')\n",
    "df = df.drop_duplicates(subset=['lemma'])\n",
    "df_filtered = df[df['lemma'].notna()]\n",
    "\n",
    "print(f'at second {len(df_filtered)}')"
   ]
  }
 ],
 "metadata": {
  "kernelspec": {
   "display_name": "Python 3",
   "language": "python",
   "name": "python3"
  },
  "language_info": {
   "codemirror_mode": {
    "name": "ipython",
    "version": 3
   },
   "file_extension": ".py",
   "mimetype": "text/x-python",
   "name": "python",
   "nbconvert_exporter": "python",
   "pygments_lexer": "ipython3",
   "version": "3.10.12"
  }
 },
 "nbformat": 4,
 "nbformat_minor": 2
}
